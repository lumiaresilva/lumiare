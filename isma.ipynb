{
  "nbformat": 4,
  "nbformat_minor": 0,
  "metadata": {
    "colab": {
      "provenance": [],
      "authorship_tag": "ABX9TyPwX5PJFvdu3dFjdW+EY6EG",
      "include_colab_link": true
    },
    "kernelspec": {
      "name": "python3",
      "display_name": "Python 3"
    },
    "language_info": {
      "name": "python"
    }
  },
  "cells": [
    {
      "cell_type": "markdown",
      "metadata": {
        "id": "view-in-github",
        "colab_type": "text"
      },
      "source": [
        "<a href=\"https://colab.research.google.com/github/lumiaresilva/lumiare/blob/main/isma.ipynb\" target=\"_parent\"><img src=\"https://colab.research.google.com/assets/colab-badge.svg\" alt=\"Open In Colab\"/></a>"
      ]
    },
    {
      "cell_type": "code",
      "execution_count": null,
      "metadata": {
        "colab": {
          "base_uri": "https://localhost:8080/"
        },
        "id": "tzKtVvupvvx4",
        "outputId": "ea672b9c-5ec5-43b9-bfdb-3cd30feb5d8b"
      },
      "outputs": [
        {
          "output_type": "stream",
          "name": "stdout",
          "text": [
            "Requirement already satisfied: scikit-image in /usr/local/lib/python3.10/dist-packages (0.24.0)\n",
            "Requirement already satisfied: scikit-learn in /usr/local/lib/python3.10/dist-packages (1.5.2)\n",
            "Requirement already satisfied: numpy>=1.23 in /usr/local/lib/python3.10/dist-packages (from scikit-image) (1.26.4)\n",
            "Requirement already satisfied: scipy>=1.9 in /usr/local/lib/python3.10/dist-packages (from scikit-image) (1.13.1)\n",
            "Requirement already satisfied: networkx>=2.8 in /usr/local/lib/python3.10/dist-packages (from scikit-image) (3.3)\n",
            "Requirement already satisfied: pillow>=9.1 in /usr/local/lib/python3.10/dist-packages (from scikit-image) (10.4.0)\n",
            "Requirement already satisfied: imageio>=2.33 in /usr/local/lib/python3.10/dist-packages (from scikit-image) (2.35.1)\n",
            "Requirement already satisfied: tifffile>=2022.8.12 in /usr/local/lib/python3.10/dist-packages (from scikit-image) (2024.8.30)\n",
            "Requirement already satisfied: packaging>=21 in /usr/local/lib/python3.10/dist-packages (from scikit-image) (24.1)\n",
            "Requirement already satisfied: lazy-loader>=0.4 in /usr/local/lib/python3.10/dist-packages (from scikit-image) (0.4)\n",
            "Requirement already satisfied: joblib>=1.2.0 in /usr/local/lib/python3.10/dist-packages (from scikit-learn) (1.4.2)\n",
            "Requirement already satisfied: threadpoolctl>=3.1.0 in /usr/local/lib/python3.10/dist-packages (from scikit-learn) (3.5.0)\n",
            "Confusion Matrix:\n",
            "[[11  1]\n",
            " [ 0 20]]\n",
            "\n",
            "Classification Report:\n",
            "              precision    recall  f1-score   support\n",
            "\n",
            "           0       1.00      0.92      0.96        12\n",
            "           1       0.95      1.00      0.98        20\n",
            "\n",
            "    accuracy                           0.97        32\n",
            "   macro avg       0.98      0.96      0.97        32\n",
            "weighted avg       0.97      0.97      0.97        32\n",
            "\n",
            "\n",
            "Accuracy Score: 0.96875\n"
          ]
        }
      ],
      "source": [
        "# Install library yang dibutuhkan\n",
        "!pip install scikit-image scikit-learn\n",
        "\n",
        "# Import library yang diperlukan\n",
        "import os\n",
        "import cv2\n",
        "import numpy as np\n",
        "import pandas as pd\n",
        "from skimage.feature import graycomatrix, graycoprops # The function name is 'graycomatrix', not 'greycomatrix'\n",
        "from sklearn.model_selection import train_test_split\n",
        "from sklearn.preprocessing import LabelEncoder, StandardScaler\n",
        "from sklearn.neighbors import KNeighborsClassifier\n",
        "from sklearn.metrics import classification_report, confusion_matrix, accuracy_score\n",
        "\n",
        "# Fungsi untuk ekstraksi fitur menggunakan GLCM\n",
        "def extract_glcm_features(image):\n",
        "    # Convert to grayscale\n",
        "    gray_image = cv2.cvtColor(image, cv2.COLOR_BGR2GRAY)\n",
        "    # GLCM Parameters\n",
        "    distances = [1]\n",
        "    angles = [0, np.pi/4, np.pi/2, 3*np.pi/4]\n",
        "    # Compute GLCM\n",
        "    glcm = graycomatrix(gray_image, distances, angles, 256, symmetric=True, normed=True) # The function name is 'graycomatrix', not 'greycomatrix'\n",
        "    # Extract GLCM properties\n",
        "    contrast = graycoprops(glcm, 'contrast').flatten() # The function name is 'graycoprops', not 'greycoprops'\n",
        "    dissimilarity = graycoprops(glcm, 'dissimilarity').flatten() # The function name is 'graycoprops', not 'greycoprops'\n",
        "    homogeneity = graycoprops(glcm, 'homogeneity').flatten() # The function name is 'graycoprops', not 'greycoprops'\n",
        "    energy = graycoprops(glcm, 'energy').flatten() # The function name is 'graycoprops', not 'greycoprops'\n",
        "    correlation = graycoprops(glcm, 'correlation').flatten() # The function name is 'graycoprops', not 'greycoprops'\n",
        "    # Return all properties as a single feature vector\n",
        "    return np.hstack([contrast, dissimilarity, homogeneity, energy, correlation])\n",
        "\n",
        "# Path ke folder dataset\n",
        "data_path = \"oysters/\"\n",
        "\n",
        "# List semua folder kategori (baik dan buruk)\n",
        "categories = [\"good\", \"bad\"]\n",
        "\n",
        "# Inisialisasi list untuk fitur dan label\n",
        "features = []\n",
        "labels = []\n",
        "\n",
        "# Loop melalui setiap kategori untuk memproses gambar\n",
        "for category in categories:\n",
        "    folder_path = os.path.join(data_path, category)\n",
        "    for file in os.listdir(folder_path):\n",
        "        file_path = os.path.join(folder_path, file)\n",
        "        # Membaca gambar\n",
        "        image = cv2.imread(file_path)\n",
        "        if image is not None:\n",
        "            # Ekstrak fitur GLCM\n",
        "            feature = extract_glcm_features(image)\n",
        "            features.append(feature)\n",
        "            labels.append(category)\n",
        "\n",
        "# Konversi fitur dan label ke array\n",
        "X = np.array(features)\n",
        "y = np.array(labels)\n",
        "\n",
        "# Encode label (baik dan buruk menjadi 0 dan 1)\n",
        "label_encoder = LabelEncoder()\n",
        "y = label_encoder.fit_transform(y)\n",
        "\n",
        "# Split data menjadi training dan testing\n",
        "X_train, X_test, y_train, y_test = train_test_split(X, y, test_size=0.2, random_state=42)\n",
        "\n",
        "# Normalisasi fitur\n",
        "scaler = StandardScaler()\n",
        "X_train = scaler.fit_transform(X_train)\n",
        "X_test = scaler.transform(X_test)\n",
        "\n",
        "# Inisialisasi model KNN\n",
        "knn = KNeighborsClassifier(n_neighbors=3)\n",
        "\n",
        "# Training model\n",
        "knn.fit(X_train, y_train)\n",
        "\n",
        "# Prediksi pada data testing\n",
        "y_pred = knn.predict(X_test)\n",
        "\n",
        "# Evaluasi model\n",
        "print(\"Confusion Matrix:\")\n",
        "print(confusion_matrix(y_test, y_pred))\n",
        "print(\"\\nClassification Report:\")\n",
        "print(classification_report(y_test, y_pred))\n",
        "print(\"\\nAccuracy Score:\", accuracy_score(y_test, y_pred))"
      ]
    },
    {
      "cell_type": "code",
      "source": [
        "# Fungsi untuk memuat dan menguji citra tunggal menggunakan model KNN\n",
        "def test_single_image(image_path, model, scaler, label_encoder):\n",
        "    # Membaca gambar\n",
        "    image = cv2.imread(image_path)\n",
        "    if image is not None:\n",
        "        # Ekstrak fitur GLCM dari citra\n",
        "        features = extract_glcm_features(image)\n",
        "        # Normalisasi fitur\n",
        "        features = scaler.transform([features])\n",
        "        # Prediksi menggunakan model KNN\n",
        "        prediction = model.predict(features)\n",
        "        # Decode hasil prediksi ke label\n",
        "        predicted_label = label_encoder.inverse_transform(prediction)\n",
        "        return predicted_label[0]\n",
        "    else:\n",
        "        print(\"Gambar tidak ditemukan.\")\n",
        "        return None\n",
        "\n",
        "# Path ke citra uji\n",
        "test_image_path = \"oysters/test/test.png\"  # Ganti path ini dengan path citra uji Anda\n",
        "\n",
        "# Uji model pada citra tunggal\n",
        "predicted_quality = test_single_image(test_image_path, knn, scaler, label_encoder)\n",
        "\n",
        "# Tampilkan hasil prediksi\n",
        "if predicted_quality is not None:\n",
        "    print(f\"Hasil prediksi kualitas tiram pada citra uji: {predicted_quality}\")\n"
      ],
      "metadata": {
        "colab": {
          "base_uri": "https://localhost:8080/"
        },
        "id": "7Ca4FDqPvx7l",
        "outputId": "13a36052-969e-4286-fa53-f6a13a30af2b"
      },
      "execution_count": null,
      "outputs": [
        {
          "output_type": "stream",
          "name": "stdout",
          "text": [
            "Hasil prediksi kualitas tiram pada citra uji: good\n"
          ]
        }
      ]
    },
    {
      "cell_type": "code",
      "source": [
        "# Simpan model dan skaler setelah pelatihan\n",
        "import joblib\n",
        "\n",
        "# Simpan model\n",
        "joblib.dump(knn, 'models/knn_model.pkl')\n",
        "# Simpan skaler\n",
        "joblib.dump(scaler, 'models/scaler.pkl')\n"
      ],
      "metadata": {
        "colab": {
          "base_uri": "https://localhost:8080/"
        },
        "id": "R6J3BS-a7GNd",
        "outputId": "b65ccc74-7b54-418b-f0a7-af0d292bf439"
      },
      "execution_count": null,
      "outputs": [
        {
          "output_type": "execute_result",
          "data": {
            "text/plain": [
              "['models/scaler.pkl']"
            ]
          },
          "metadata": {},
          "execution_count": 5
        }
      ]
    }
  ]
}